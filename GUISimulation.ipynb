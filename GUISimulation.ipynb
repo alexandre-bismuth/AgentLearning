{
 "cells": [
  {
   "cell_type": "markdown",
   "id": "8ad20b64",
   "metadata": {},
   "source": [
    "# Agent Learning Project"
   ]
  },
  {
   "cell_type": "markdown",
   "id": "2d71fc10-52cd-4ca1-8c20-359acd6f32f0",
   "metadata": {},
   "source": [
    "**This document is specific to running the Graphical Interface**"
   ]
  },
  {
   "cell_type": "markdown",
   "id": "e1e32146",
   "metadata": {},
   "source": [
    "## Imports "
   ]
  },
  {
   "cell_type": "markdown",
   "id": "2b87ba5c",
   "metadata": {},
   "source": [
    "We start by importing the required libaries. Uncomment & run the next cell in case some of the libraries aren't installed in your environment. "
   ]
  },
  {
   "cell_type": "code",
   "execution_count": 1,
   "id": "ca144d0d",
   "metadata": {},
   "outputs": [],
   "source": [
    "# !pip install numpy matplotlib"
   ]
  },
  {
   "cell_type": "code",
   "execution_count": 2,
   "id": "d5789207",
   "metadata": {},
   "outputs": [],
   "source": [
    "import numpy as np # Useful for computations and probabilistic distributions\n",
    "import tkinter as tk # Graphical Interface library "
   ]
  },
  {
   "cell_type": "markdown",
   "id": "5ddf852f",
   "metadata": {},
   "source": [
    "## Defining the Agent class"
   ]
  },
  {
   "cell_type": "markdown",
   "id": "a0eebab1",
   "metadata": {},
   "source": [
    "We define a type of agent with the following attributes: \n",
    "- Agent name : Name of the agent\n",
    "- Service probability : If at the counter, shows the probability that this agent will be serviced.\n",
    "- Reward : Reward the counter gets for servicing this agent\n",
    "- Time in queue : Time for which the agent has been in the queue. "
   ]
  },
  {
   "cell_type": "code",
   "execution_count": 3,
   "id": "7f684bfe",
   "metadata": {},
   "outputs": [],
   "source": [
    "class Agent:\n",
    "    def __init__(self, agent_name):\n",
    "        self.agent_name = agent_name\n",
    "        self.service_prob, self.reward, self.penalty = agents[agent_name][:3]\n",
    "        self.time_in_queue = 0\n",
    "\n",
    "    def __str__(self):\n",
    "        return f\"Agent {self.agent_name} ({self.time_in_queue})\""
   ]
  },
  {
   "cell_type": "markdown",
   "id": "b7d38814",
   "metadata": {},
   "source": [
    "## Defining the Queue mechanism "
   ]
  },
  {
   "cell_type": "code",
   "execution_count": 4,
   "id": "6d01dd96",
   "metadata": {},
   "outputs": [],
   "source": [
    "class QueueSimulation:\n",
    "    def __init__(self, agents, arrival_prob, init, alpha, discount):\n",
    "        # Define the agents, their distribution, and the strategy\n",
    "        self.agents = agents\n",
    "        self.agent_distribution = np.array([agent[3] for agent in agents.values()])\n",
    "        self.agent_distribution = self.agent_distribution / np.sum(self.agent_distribution)\n",
    "        \n",
    "        # Define the hyper-parameters of the simulation\n",
    "        self.arrival_prob, self.init, self.alpha, self.discount = arrival_prob, init, alpha, discount\n",
    "        self.fixed_discount, self.discount = discount, 1 # Optimization trick to avoid recomputing power at each step\n",
    "        \n",
    "        # Define the Queue\n",
    "        self.queue = [self.create_agent() for _ in range(init)] if type(init) == int else init\n",
    "        self.current_agent = None if len(self.queue) == 0 else self.queue[0]\n",
    "        \n",
    "        # Variables that are used to analyze our code\n",
    "        self.time, self.total_reward, self.discounted_reward = 0, 0, 0\n",
    "\n",
    "    def create_agent(self):\n",
    "        agent_name = np.random.choice(list(self.agents.keys()), p=self.agent_distribution)\n",
    "        return Agent(agent_name)\n",
    "\n",
    "    def step(self):\n",
    "        \"\"\"\n",
    "        This function is the core of the simulation. It defines what happens at every step. The order in which \n",
    "        the computations are made is important so we have to be careful. In our case, we proceed as follows:\n",
    "        \n",
    "        1. Determine whether an agent is joining the queue\n",
    "        2. Detemine if the agent in service is going to complete service or not and potentially add reward \n",
    "        3. Apply the strategy to determine what happens next\n",
    "        4. Add penalty to the reward\n",
    "        \"\"\"\n",
    "        self.time += 1\n",
    "        self.discount *= self.fixed_discount\n",
    "        \n",
    "        # Add new agent to the queue based on arrival probability\n",
    "        if np.random.rand() < self.arrival_prob:\n",
    "            new_agent = self.create_agent()\n",
    "            self.queue.append(new_agent)\n",
    "\n",
    "        # Check if the current agent is done being served\n",
    "        if self.current_agent:\n",
    "            if np.random.rand() < self.current_agent.service_prob:\n",
    "                self.total_reward += self.current_agent.reward\n",
    "                self.discounted_reward += self.current_agent.reward*self.discount\n",
    "                self.current_agent = None\n",
    "                \n",
    "        # Apply the strategy to select the next agent\n",
    "        if self.queue:\n",
    "            queue_index = -1 if self.current_agent else 0\n",
    "            self.swap_agents(queue_index)\n",
    "        \n",
    "        length = len(self.queue)\n",
    "        \n",
    "        # Apply penalty on reward\n",
    "        for agent in self.queue: \n",
    "            agent.time_in_queue += 1\n",
    "            self.total_reward -= agent.penalty\n",
    "            self.discounted_reward -= agent.penalty*self.discount\n",
    "        self.total_reward -= regularization(self.alpha,length)\n",
    "        self.discounted_reward -= regularization(self.alpha,length)*self.discount\n",
    "\n",
    "    def swap_agents(self, queue_index):\n",
    "        if 0 <= queue_index < len(self.queue):\n",
    "            if self.current_agent:\n",
    "                self.queue[queue_index], self.current_agent = (self.current_agent,self.queue[queue_index])\n",
    "            else:\n",
    "                self.current_agent = self.queue.pop(queue_index)\n"
   ]
  },
  {
   "cell_type": "code",
   "execution_count": 5,
   "id": "0b94968d",
   "metadata": {},
   "outputs": [],
   "source": [
    "# Compute average service probability\n",
    "def service():\n",
    "    service_prob = np.array([agent[0] for agent in agents.values()])\n",
    "    weights = np.array([agent[3] for agent in agents.values()])\n",
    "    distribution = weights / np.sum(weights)\n",
    "    x = np.dot(service_prob, distribution.T)\n",
    "    return x,1/x\n",
    "\n",
    "# Create the initial list\n",
    "def create(l, shuffle=False):\n",
    "    queue = []\n",
    "    for name, quantity in l:\n",
    "        queue += [Agent(name)] * quantity\n",
    "    if shuffle:\n",
    "        np.random.shuffle(queue)\n",
    "    return queue"
   ]
  },
  {
   "cell_type": "markdown",
   "id": "905da588",
   "metadata": {},
   "source": [
    "## Designing our Graphical User Interface"
   ]
  },
  {
   "cell_type": "code",
   "execution_count": 6,
   "id": "455a33e1",
   "metadata": {},
   "outputs": [],
   "source": [
    "class QueueSimulationGUI:\n",
    "    def __init__(self, master, simulation):\n",
    "        self.master = master\n",
    "        self.simulation = simulation\n",
    "        self.master.title(\"Queue Simulation\")\n",
    "\n",
    "        # Frame for displaying the time\n",
    "        self.time_frame = tk.Frame(master)\n",
    "        self.time_frame.pack(pady=10)\n",
    "\n",
    "        self.time_label = tk.Label(self.time_frame, text=\"Time: 0\", font=(\"Helvetica\", 14))\n",
    "        self.time_label.pack()\n",
    "\n",
    "        # Frame for displaying the queue with scrollable canvas\n",
    "        self.queue_frame = tk.Frame(master)\n",
    "        self.queue_frame.pack(pady=10, fill=tk.BOTH, expand=True)\n",
    "\n",
    "        self.queue_label = tk.Label(\n",
    "            self.queue_frame,\n",
    "            text=f\"Queue - Length: {len(self.simulation.queue)}\",\n",
    "            font=(\"Helvetica\", 14),)\n",
    "        self.queue_label.pack()\n",
    "\n",
    "        self.queue_canvas = tk.Canvas(self.queue_frame, width=600, height=150, bg=\"white\")\n",
    "        self.queue_canvas.pack(side=tk.TOP, fill=tk.BOTH, expand=True) \n",
    "\n",
    "        self.scrollbar = tk.Scrollbar(self.queue_frame, orient=tk.HORIZONTAL, command=self.queue_canvas.xview)\n",
    "        self.scrollbar.pack(side=tk.TOP, fill=tk.X)  # Change from BOTTOM to TOP\n",
    "        \n",
    "        self.queue_canvas.config(xscrollcommand=self.scrollbar.set)\n",
    "\n",
    "        self.inner_queue_frame = tk.Frame(self.queue_canvas)\n",
    "        self.queue_canvas.create_window((0, 0), window=self.inner_queue_frame, anchor='nw')\n",
    "\n",
    "        # Frame for displaying the current agent at the counter\n",
    "        self.counter_frame = tk.Frame(master)\n",
    "        self.counter_frame.pack(pady=10)\n",
    "\n",
    "        self.counter_label = tk.Label(self.counter_frame, text=\"Counter\", font=(\"Helvetica\", 14))\n",
    "        self.counter_label.pack()\n",
    "\n",
    "        self.counter_canvas = tk.Canvas(self.counter_frame, width=200, height=100, bg=\"white\")\n",
    "        self.counter_canvas.pack()\n",
    "\n",
    "        # Frame for displaying the total reward\n",
    "        self.reward_frame = tk.Frame(master)\n",
    "        self.reward_frame.pack(pady=10)\n",
    "\n",
    "        self.reward_label = tk.Label(self.reward_frame, text=\"Total Reward: 0\", font=(\"Helvetica\", 14))\n",
    "        self.reward_label.pack()\n",
    "\n",
    "        # Frame for action buttons\n",
    "        self.action_frame = tk.Frame(master)\n",
    "        self.action_frame.pack(pady=10)\n",
    "\n",
    "        self.next_step_button = tk.Button(self.action_frame, text=\"Next Step\", command=self.next_step)\n",
    "        self.next_step_button.pack(side=tk.LEFT, padx=10)\n",
    "\n",
    "        self.reset_button = tk.Button(self.action_frame, text=\"Reset\", command=self.reset_simulation)\n",
    "        self.reset_button.pack(side=tk.LEFT, padx=10)\n",
    "\n",
    "        # Frame for input and switch button\n",
    "        self.input_frame = tk.Frame(master)\n",
    "        self.input_frame.pack(pady=10)\n",
    "\n",
    "        self.index_label = tk.Label(self.input_frame, text=\"Enter Queue Index:\", font=(\"Helvetica\", 14))\n",
    "        self.index_label.pack(side=tk.LEFT)\n",
    "\n",
    "        self.index_entry = tk.Entry(self.input_frame, width=5)\n",
    "        self.index_entry.pack(side=tk.LEFT, padx=5)\n",
    "\n",
    "        self.switch_button = tk.Button(self.input_frame, text=\"Switch\", command=self.switch_agent)\n",
    "        self.switch_button.pack(side=tk.LEFT, padx=10)\n",
    "\n",
    "        self.reset_simulation()\n",
    "\n",
    "    def next_step(self):\n",
    "        self.simulation.step()\n",
    "        self.update_labels()\n",
    "\n",
    "    def switch_agent(self):\n",
    "        try:\n",
    "            agent_index = int(self.index_entry.get())\n",
    "            self.simulation.swap_agents(agent_index)\n",
    "            self.update_labels()\n",
    "        except Exception:\n",
    "            pass  # We could imagine adding an error message here\n",
    "\n",
    "    def update_labels(self):\n",
    "        self.time_label.config(text=f\"Time: {self.simulation.time}\")\n",
    "        self.reward_label.config(text=f\"Total & Discounted Reward: {self.simulation.total_reward} & {self.simulation.discounted_reward}\")\n",
    "        self.queue_label.config(text=f\"Queue - Length: {len(self.simulation.queue)}\",)\n",
    "\n",
    "        # Update queue visualization\n",
    "        self.queue_canvas.delete(\"all\")\n",
    "        box_width = 150\n",
    "        for idx, agent in enumerate(self.simulation.queue):\n",
    "            self.queue_canvas.create_rectangle(10 + box_width * idx, 10, box_width + box_width * idx, 60, fill=\"lightblue\")\n",
    "            self.queue_canvas.create_text(10 + box_width * idx + box_width / 2, 35, text=str(agent))\n",
    "\n",
    "        self.queue_canvas.config(scrollregion=self.queue_canvas.bbox(\"all\"))\n",
    "\n",
    "        # Update counter visualization\n",
    "        self.counter_canvas.delete(\"all\")\n",
    "        if self.simulation.current_agent:\n",
    "            self.counter_canvas.create_rectangle(50, 10, 150, 60, fill=\"lightgreen\")\n",
    "            self.counter_canvas.create_text(100, 35, text=str(self.simulation.current_agent.agent_name))\n",
    "        else:\n",
    "            self.counter_canvas.create_text(100, 35, text=\"Empty\")\n",
    "\n",
    "    def reset_simulation(self):\n",
    "        self.simulation = QueueSimulation(\n",
    "            self.simulation.agents,\n",
    "            self.simulation.arrival_prob,\n",
    "            self.simulation.init,\n",
    "            self.simulation.alpha,\n",
    "            self.simulation.discount,\n",
    "        )\n",
    "        self.update_labels()\n"
   ]
  },
  {
   "cell_type": "markdown",
   "id": "1bc4fb4d",
   "metadata": {},
   "source": [
    "## Choosing base parameters"
   ]
  },
  {
   "cell_type": "code",
   "execution_count": 7,
   "id": "89df262e",
   "metadata": {},
   "outputs": [
    {
     "name": "stdout",
     "output_type": "stream",
     "text": [
      "(0.5578947368421051, 1.7924528301886797)\n"
     ]
    }
   ],
   "source": [
    "# Defining Agents\n",
    "agents = {\n",
    "    ### Agent name : [service_probability, reward, penalty, distrib_weight]\n",
    "    # service_probability: float in [0,1]\n",
    "    # reward, penalty, distrib_weight: float (unconstrained)\n",
    "    \"Alex\" : [0.7, 1, 0.1, 6], \n",
    "    \"Ben\" : [0.5, 20, 0.4, 3],\n",
    "    \"Cameron\" : [0.3, 30, 0.2, 4],\n",
    "    \"Dennis\" : [0.4, 20, 0.01, 2],\n",
    "    \"Eric\": [0.8, 4, 0.2, 3],\n",
    "    \"Fabien\": [0.5, 50, 0.4, 1],\n",
    "}\n",
    "\n",
    "# Expected average service probability & time\n",
    "print(service())\n",
    "\n",
    "# Probabilty that a new agent joins the queue\n",
    "arrival_prob = 0.55\n",
    "\n",
    "# Number of agents in the queue at t = 0\n",
    "# We either choose a random weighted queue or a specific queue\n",
    "start = 5\n",
    "queue = create([(\"Fabien\", 20), (\"Alex\", 10)], True) # [(name, quantity),(name, quantity),...], shuffle=True/False \n",
    "init = start # Choose a mode here\n",
    "\n",
    "# Choose a discount factor for discounted reward computation\n",
    "discount = 0.99\n",
    "\n",
    "# Regularization parameter and function\n",
    "alpha = 0.00\n",
    "def regularization(alpha,length):\n",
    "    return alpha*length"
   ]
  },
  {
   "cell_type": "markdown",
   "id": "d0294954",
   "metadata": {},
   "source": [
    "## Playing the game manually"
   ]
  },
  {
   "cell_type": "markdown",
   "id": "cd931ce9",
   "metadata": {},
   "source": [
    "Execute the main code manually and play the game by making your own decisions through the graphical user interface."
   ]
  },
  {
   "cell_type": "code",
   "execution_count": 8,
   "id": "efac9fa9",
   "metadata": {},
   "outputs": [],
   "source": [
    "simulation = QueueSimulation(agents, arrival_prob, init, alpha, discount)\n",
    "root = tk.Tk()\n",
    "gui = QueueSimulationGUI(root, simulation)\n",
    "root.mainloop()"
   ]
  }
 ],
 "metadata": {
  "kernelspec": {
   "display_name": "Python 3 (ipykernel)",
   "language": "python",
   "name": "python3"
  },
  "language_info": {
   "codemirror_mode": {
    "name": "ipython",
    "version": 3
   },
   "file_extension": ".py",
   "mimetype": "text/x-python",
   "name": "python",
   "nbconvert_exporter": "python",
   "pygments_lexer": "ipython3",
   "version": "3.12.4"
  }
 },
 "nbformat": 4,
 "nbformat_minor": 5
}
