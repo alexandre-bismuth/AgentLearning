{
 "cells": [
  {
   "cell_type": "markdown",
   "id": "8ad20b64",
   "metadata": {},
   "source": [
    "# Agent Learning Project"
   ]
  },
  {
   "cell_type": "markdown",
   "id": "e1e32146",
   "metadata": {},
   "source": [
    "## Imports "
   ]
  },
  {
   "cell_type": "markdown",
   "id": "2b87ba5c",
   "metadata": {},
   "source": [
    "We start by importing the required libaries. Uncomment & run the next cell in case some of the libraries aren't installed in your environment. "
   ]
  },
  {
   "cell_type": "code",
   "execution_count": null,
   "id": "ca144d0d",
   "metadata": {},
   "outputs": [],
   "source": [
    "# !pip install numpy matplotlib tqdm"
   ]
  },
  {
   "cell_type": "code",
   "execution_count": 2,
   "id": "d5789207",
   "metadata": {},
   "outputs": [],
   "source": [
    "import numpy as np # Computations and probabilistic distributions\n",
    "import matplotlib.pyplot as plt # Plotting Graph for Simulation results\n",
    "from collections import defaultdict # Dictionary that sets a default value for any key\n",
    "from tqdm import tqdm # Training progress bar"
   ]
  },
  {
   "cell_type": "markdown",
   "id": "5ddf852f",
   "metadata": {},
   "source": [
    "## Defining the Agent class"
   ]
  },
  {
   "cell_type": "markdown",
   "id": "a0eebab1",
   "metadata": {},
   "source": [
    "We define a type of agent with the following attributes: \n",
    "- Agent name : Name of the agent\n",
    "- Service probability : If at the counter, shows the probability that this agent will be serviced.\n",
    "- Reward : Reward the counter gets for servicing this agent\n",
    "- Time in queue : Time for which the agent has been in the queue. "
   ]
  },
  {
   "cell_type": "code",
   "execution_count": 3,
   "id": "7f684bfe",
   "metadata": {},
   "outputs": [],
   "source": [
    "class Agent:\n",
    "    def __init__(self, name):\n",
    "        self.name = name\n",
    "        self.service_prob, self.reward, self.penalty = agents[name][:3]\n",
    "        self.penalty_function = agents[name][4]\n",
    "        self.time_in_queue = 0\n",
    "\n",
    "    def __eq__(self, other):\n",
    "        if self is None or other is None: \n",
    "            return False\n",
    "        return self.name == other.name\n",
    "\n",
    "    def __str__(self):\n",
    "        return f\"Agent {self.name} ({self.time_in_queue})\""
   ]
  },
  {
   "cell_type": "markdown",
   "id": "b7d38814",
   "metadata": {},
   "source": [
    "## Defining the Queue mechanism "
   ]
  },
  {
   "cell_type": "code",
   "execution_count": 4,
   "id": "6d01dd96",
   "metadata": {},
   "outputs": [],
   "source": [
    "class QueueSimulation:\n",
    "    def __init__(self, agents={}, arrival_prob=0, init=0, alpha=0, discount=1, truncation=20):\n",
    "        # Define the agents, their distribution, and the strategy\n",
    "        self.agents = agents\n",
    "        self.agent_distribution = np.array([agent[3] for agent in agents.values()])\n",
    "        self.agent_distribution = self.agent_distribution / np.sum(self.agent_distribution)\n",
    "        \n",
    "        # Define the hyper-parameters of the simulation\n",
    "        self.arrival_prob, self.init, self.alpha, self.discount = arrival_prob, init, alpha, discount\n",
    "        self.fixed_discount, self.discount = discount, 1 # Optimization trick to avoid recomputing power at each step\n",
    "        \n",
    "        # Define the Queue\n",
    "        if type(init) == int:\n",
    "            self.queue = [self.create_agent() for _ in range(init)]  \n",
    "        else:\n",
    "            self.queue = init\n",
    "        self.current_agent = None if len(self.queue) == 0 else self.queue.pop(0)\n",
    "        self.truncation = truncation\n",
    "        \n",
    "        # Variables that are used to analyze our code\n",
    "        self.time, self.busy, self.total_reward, self.discounted_reward = 0, 0, 0, 0\n",
    "        \n",
    "        # Tracking the history for graphs\n",
    "        self.serviced_agents = defaultdict(int)\n",
    "        self.reward_history, self.queue_length_history = [], []\n",
    "\n",
    "    def create_agent(self):\n",
    "        name = np.random.choice(list(self.agents.keys()), p=self.agent_distribution)\n",
    "        return Agent(name)\n",
    "\n",
    "    def train_step(self):\n",
    "        \"\"\"\n",
    "        This function is the core of the simulation. It defines what happens at every step. The order in which \n",
    "        the computations are made is important so we have to be careful. In our case, we proceed as follows:\n",
    "        \n",
    "        1. Determine whether an agent is joining the queue\n",
    "        2. Detemine if the agent in service is going to complete service or not and potentially add reward \n",
    "        3. Add penalty to the reward\n",
    "        4. Apply the given strategy to determine what happens next\n",
    "        5. Add the information related to the step to the simulation history\n",
    "        \n",
    "        Please feel free to ask for any changes in the implementation\n",
    "        \"\"\"\n",
    "        self.time += 1 # Update time\n",
    "        self.discount *= self.fixed_discount # Update Discount\n",
    "        reward_this_step = 0\n",
    "        agent_this_step = self.current_agent\n",
    "        state_this_step = q_agent.get_state(self.queue, self.agents, self.current_agent) \n",
    "        \n",
    "        # Check if the current agent is done being served\n",
    "        if self.current_agent:\n",
    "            if np.random.rand() < self.current_agent.service_prob:\n",
    "                reward_this_step += self.current_agent.reward\n",
    "                self.total_reward += self.current_agent.reward\n",
    "                self.discounted_reward += self.current_agent.reward*self.discount\n",
    "                self.serviced_agents[self.current_agent.name] += 1\n",
    "                self.current_agent = None\n",
    "        \n",
    "        # Add new agent to the queue based on arrival probability\n",
    "        if np.random.rand() < self.arrival_prob:\n",
    "            new_agent = self.create_agent()\n",
    "            agent_count = sum(1 for agent in self.queue if agent.name == new_agent.name)\n",
    "            if agent_count < truncation:\n",
    "                # If there is too much of this agent in the queue, we reject the new entry\n",
    "                self.queue.append(new_agent)\n",
    "\n",
    "        length = len(self.queue)\n",
    "        \n",
    "        # Apply penalty on reward\n",
    "        for agent in self.queue: \n",
    "            agent.time_in_queue += 1\n",
    "            reward_this_step -= agent.penalty\n",
    "            self.total_reward -= agent.penalty_function(self.time, agent.penalty)\n",
    "            self.discounted_reward -= agent.penalty_function(self.time, agent.penalty*self.discount)\n",
    "        reward_this_step -= regularization(self.alpha,length)\n",
    "        self.total_reward -= regularization(self.alpha,length)\n",
    "        self.discounted_reward -= regularization(self.alpha,length)*self.discount\n",
    "\n",
    "        # Apply the strategy to select the next agent\n",
    "        if self.queue:\n",
    "            self.q_learning_strategy(state_this_step, reward_this_step, agent_this_step)\n",
    "\n",
    "        length = len(self.queue)\n",
    "        \n",
    "        # Add the step's information to the simulation history\n",
    "        self.reward_history.append(self.total_reward)\n",
    "        self.queue_length_history.append(length)\n",
    "        self.busy += bool(self.current_agent)\n",
    "\n",
    "    def test_step(self, test_queue=[], test_arrival_prob=0, verbose=False):\n",
    "        \"\"\"\n",
    "        This function is similar to the above training function but is thought to test what actions are taken on\n",
    "        a given queue after training. We allow it to have different parameters than the ones used for training.\n",
    "        \"\"\"   \n",
    "        self.time += 1 # Update time\n",
    "        self.discount *= self.fixed_discount # Update Discount\n",
    "        \n",
    "        # Add new agent to the queue based on arrival probability\n",
    "        if np.random.rand() < test_arrival_prob:\n",
    "            new_agent = self.create_agent()\n",
    "            agent_count = sum(1 for agent in self.queue if agent.name == new_agent.name)\n",
    "            if agent_count < self.truncation:\n",
    "                # If there is too much of this agent in the queue, we reject the new entry\n",
    "                self.queue.append(new_agent)\n",
    "                \n",
    "        # Check if the current agent is done being served\n",
    "        if self.current_agent:\n",
    "            if np.random.rand() < self.current_agent.service_prob:\n",
    "                self.total_reward += self.current_agent.reward\n",
    "                self.discounted_reward += self.current_agent.reward*self.discount\n",
    "                self.serviced_agents[self.current_agent.name] += 1\n",
    "                self.current_agent = None\n",
    "        \n",
    "        length = len(self.queue)\n",
    "\n",
    "        # Apply penalty on reward\n",
    "        for agent in self.queue: \n",
    "            agent.time_in_queue += 1\n",
    "            self.total_reward -= agent.penalty_function(self.time, agent.penalty)\n",
    "            self.discounted_reward -= agent.penalty_function(self.time, agent.penalty*self.discount)\n",
    "        self.total_reward -= regularization(self.alpha,length)\n",
    "        self.discounted_reward -= regularization(self.alpha,length)*self.discount\n",
    "\n",
    "        # Apply the strategy to select the next agent\n",
    "        if self.queue:\n",
    "            self.q_learning_strategy(verbose=verbose, test=True)\n",
    "        \n",
    "        # Add the step's information to the simulation history\n",
    "        self.reward_history.append(self.total_reward)\n",
    "        self.queue_length_history.append(length)\n",
    "        self.busy += bool(self.current_agent)\n",
    "\n",
    "    def q_learning_strategy(self, prev_state=(), reward=0, agent=None, verbose=False, test=False):\n",
    "        state = q_agent.get_state(self.queue, self.agents, self.current_agent) \n",
    "        action_name = q_agent.choose_action(state, self.queue, self.current_agent, verbose)\n",
    "        if action_name is None or (self.current_agent and self.current_agent.name == action_name):\n",
    "            # Nothing can be done action\n",
    "            pass\n",
    "        else:\n",
    "            action_index = next(i for i, agent in enumerate(self.queue) if agent.name == action_name)\n",
    "            if self.current_agent:\n",
    "                self.queue[action_index] = self.current_agent\n",
    "                self.current_agent = Agent(action_name)\n",
    "            else:\n",
    "                self.current_agent = self.queue.pop(action_index)\n",
    "        if not test:\n",
    "            # Observe the next state\n",
    "            next_state = q_agent.get_state(self.queue, self.agents, self.current_agent)\n",
    "            \n",
    "            # Update the Q-table\n",
    "            if prev_state is not None and agent is not None:\n",
    "                q_agent.update_q_table(prev_state, agent.name, reward, next_state)\n",
    "\n",
    "    def train(self, steps=10000):\n",
    "        bar_format = (\n",
    "            \"{desc}: {percentage:3.0f}%|{bar}| {n_fmt}/{total_fmt} \"\n",
    "            \"[{rate_fmt}] [{elapsed}<{remaining}]\"\n",
    "        )\n",
    "        for _ in tqdm(range(steps), desc=\"Training Agent\", bar_format=bar_format):\n",
    "            self.train_step()\n",
    "\n",
    "    def test(self,test_queue=[], test_arrival_prob=0, verbose=False):\n",
    "        # Resetting variables for testing\n",
    "        memory = [self.queue, self.time, self.busy, self.total_reward, self.discounted_reward, \\\n",
    "                       self.serviced_agents, self.reward_history, self.queue_length_history]\n",
    "        self.queue = test_queue\n",
    "        self.time, self.busy, self.total_reward, self.discounted_reward = 0,0,0,0\n",
    "        self.serviced_agents = defaultdict(int)\n",
    "        self.reward_history, self.queue_length_history = [], []\n",
    "        q_agent.set_test_mode()\n",
    "\n",
    "        # Testing setup\n",
    "        for _ in tqdm(range(testing_steps), desc=\"Testing Agent\"):\n",
    "            self.test_step(test_queue, test_arrival_prob, verbose)\n",
    "        self.get_results()\n",
    "\n",
    "        # Restauring variables\n",
    "        self.queue, self.time, self.busy, self.total_reward, self.discounted_reward, \\\n",
    "        self.serviced_agents, self.reward_history, self.queue_length_history = memory\n",
    "        q_agent.set_train_mode()\n",
    "\n",
    "    def get_results(self):\n",
    "        # Plot total reward over time\n",
    "        plt.figure(figsize=(15, 5))\n",
    "        plt.subplot(1, 3, 1)\n",
    "        plt.plot(self.reward_history)\n",
    "        plt.title('Total Reward over Time')\n",
    "        plt.xlabel('Time')\n",
    "        plt.ylabel('Total Reward')\n",
    "\n",
    "        # Plot queue length over time\n",
    "        plt.subplot(1, 3, 2)\n",
    "        plt.plot(self.queue_length_history)\n",
    "        plt.title('Queue Length over Time')\n",
    "        plt.xlabel('Time')\n",
    "        plt.ylabel('Queue Length')\n",
    "\n",
    "        # Plot distribution of serviced agents by type\n",
    "        plt.subplot(1, 3, 3)\n",
    "        agent_types, counts = zip(*sorted(self.serviced_agents.items()))\n",
    "        plt.bar(agent_types, counts)\n",
    "        plt.title('Distribution of Serviced Agents by Type')\n",
    "        plt.xlabel('Agent Type')\n",
    "        plt.ylabel('Count')\n",
    "\n",
    "        plt.tight_layout()\n",
    "        plt.show()\n",
    "        \n",
    "        self.min_queue_length = np.min(self.queue_length_history)\n",
    "        self.max_queue_length = np.max(self.queue_length_history)\n",
    "        self.mean_queue_length = np.mean(self.queue_length_history)\n",
    "        self.normalized_distribution = {agent_type: round(count / sum(self.serviced_agents.values()), 3) for agent_type, count in sorted(self.serviced_agents.items(), key=lambda item: item[1], reverse=True)}\n",
    "\n",
    "        \n",
    "        print(f\"\\nTotal reward: {self.total_reward}\")\n",
    "        print(f\"Discounted reward: {self.discounted_reward}\")\n",
    "        print(f\"Average reward per step: {self.total_reward/self.time}\")\n",
    "        print(f\"Min & Max Queue Length: {self.min_queue_length} & {self.max_queue_length}\")\n",
    "        print(f\"Mean Queue Length: {self.mean_queue_length}\")\n",
    "        print(f\"Normalized Distribution of Serviced Agents: {self.normalized_distribution}\")\n",
    "        print(f\"Time spent busy: {self.busy/self.time}\")\n",
    "        print(f\"--------------------------------------------------------\")\n"
   ]
  },
  {
   "cell_type": "code",
   "execution_count": 5,
   "id": "0b94968d",
   "metadata": {},
   "outputs": [],
   "source": [
    "# Compute average service probability\n",
    "def service():\n",
    "    service_prob = np.array([agent[0] for agent in agents.values()])\n",
    "    weights = np.array([agent[3] for agent in agents.values()])\n",
    "    distribution = weights / np.sum(weights)\n",
    "    x = np.dot(service_prob, distribution.T)\n",
    "    if x == 0:\n",
    "        return 0, float('inf')\n",
    "    return x,1/x\n",
    "\n",
    "# Compute expected reward per agent\n",
    "def average():\n",
    "    probabilities = np.array([agent[0] for agent in agents.values()])\n",
    "    rewards = np.array([agent[1] for agent in agents.values()])\n",
    "    penalties = np.array([agent[2] for agent in agents.values()])\n",
    "    average_values = {agent: rewards[i]*probabilities[i] - penalties[i]/probabilities[i] for i, agent in enumerate(agents.keys())}\n",
    "    return average_values\n",
    "\n",
    "# Create the initial list\n",
    "def create(l, shuffle=False):\n",
    "    queue = []\n",
    "    for name, quantity in l:\n",
    "        try:\n",
    "            queue += [Agent(name)] * quantity\n",
    "        except KeyError:\n",
    "            print(f\"Error: {name} is not a valid Agent name ! Moving on to the next Agent creation...\")\n",
    "            continue\n",
    "    if shuffle:\n",
    "        np.random.shuffle(queue)\n",
    "    return queue"
   ]
  },
  {
   "cell_type": "markdown",
   "id": "0e6f40a2-96cf-4246-81b4-6a52d0968821",
   "metadata": {},
   "source": [
    "## Defining the Q-Learning Agent"
   ]
  },
  {
   "cell_type": "code",
   "execution_count": 6,
   "id": "368859d9-355d-4a2e-8b7b-40af041edf57",
   "metadata": {},
   "outputs": [],
   "source": [
    "class QLearningAgent:\n",
    "    def __init__(self, agents, truncation, discount, learning_rate, epsilon, epsilon_function):\n",
    "        self.agents, self.num_agents, self.truncation = agents, len(agents), truncation\n",
    "        self.discount, self.learning_rate, self.epsilon = discount, learning_rate, epsilon\n",
    "        self.epsilon_function, self.epsilon_memory = epsilon_function, epsilon\n",
    "        self.q_table = defaultdict(lambda: {agent:0 for agent in agents.keys()})\n",
    "        self.valid_actions={}\n",
    "\n",
    "    def get_state(self, queue, agents, current_agent=None):\n",
    "        state = {agent: 0 for agent in list(agents.keys())}\n",
    "        if current_agent:\n",
    "            state[current_agent.name] += 1\n",
    "        for i, agent in enumerate(queue):\n",
    "            if min(state.values()) >= self.truncation: break\n",
    "            if state[agent.name] >= self.truncation: continue\n",
    "            state[agent.name] += 1\n",
    "        return tuple(state.items())\n",
    "\n",
    "    def choose_action(self, state, queue, current_agent=None, verbose=False):\n",
    "        valid_actions = {agent.name for agent in queue}\n",
    "        if current_agent: valid_actions.add(current_agent.name)\n",
    "        self.valid_actions = valid_actions\n",
    "        if not valid_actions: return None\n",
    "        if np.random.rand() < self.epsilon:\n",
    "            self.epsilon = self.epsilon_function(self.epsilon)\n",
    "            action = np.random.choice(list(valid_actions))\n",
    "            if verbose:\n",
    "                print(f\"Exploration - Action: {action}\")\n",
    "            return action\n",
    "        self.epsilon = self.epsilon_function(self.epsilon)\n",
    "        state_values = {action: self.q_table[state][action] for action in list(valid_actions)}\n",
    "        action = max(state_values, key=state_values.get)\n",
    "        if verbose:\n",
    "            print(f\"Exploitation - Action: {action} \") \n",
    "        return action\n",
    "\n",
    "    def update_q_table(self, state, action, reward, next_state):\n",
    "        next_state_values = self.q_table[next_state]\n",
    "        best_next_action = max(next_state_values, key=next_state_values.get)\n",
    "        td_target = reward + self.discount * self.q_table[next_state][best_next_action]\n",
    "        td_error = td_target - self.q_table[state][action]\n",
    "        self.q_table[state][action] += self.learning_rate * td_error\n",
    "\n",
    "    def set_test_mode(self):\n",
    "        self.epsilon_memory = self.epsilon\n",
    "        self.epsilon = 0\n",
    "\n",
    "    def set_train_mode(self):\n",
    "        self.epsilon = self.epsilon_memory"
   ]
  },
  {
   "cell_type": "markdown",
   "id": "1bc4fb4d",
   "metadata": {},
   "source": [
    "## Choosing base parameters"
   ]
  },
  {
   "cell_type": "code",
   "execution_count": 7,
   "id": "89df262e",
   "metadata": {},
   "outputs": [],
   "source": [
    "training_steps = 100_000\n",
    "\n",
    "# Penalty functions\n",
    "def penalty_func_constant(time_in_queue, penalty_value):\n",
    "    return penalty_value\n",
    "    \n",
    "def penalty_func_linear(time_in_queue, penalty_value):\n",
    "    return penalty_value * time_in_queue\n",
    "\n",
    "# Defining Agents\n",
    "agents = {\n",
    "    ### Agent name : [service_probability, reward, penalty, distrib_weight]\n",
    "    # service_probability: float in [0,1]\n",
    "    # reward, penalty, distrib_weight: float (unconstrained)\n",
    "    \"Alex\" : [0.5, 50, 0, 0, penalty_func_constant], \n",
    "    \"Ben\" : [0.25, 0, 0, 3, penalty_func_constant],\n",
    "    \"Cameron\" : [0.3, 30, 0, 0, penalty_func_constant],\n",
    "    \"Dennis\" : [0.4, 20, 0, 0, penalty_func_constant],\n",
    "    \"Eric\": [0.75, 200, 0, 3, penalty_func_constant],\n",
    "    \"Fabien\": [0.3, 50, 0, 0, penalty_func_constant],\n",
    "}\n",
    "\n",
    "# Probabilty that a new agent joins the queue\n",
    "arrival_prob = 1\n",
    "\n",
    "# Number of agents in the queue at t = 0\n",
    "# We either choose a random weighted queue or a specific queue\n",
    "start = 0\n",
    "queue = create([(\"Alex\", 1)], False) # [(name, quantity),(name, quantity),...], shuffle=True/False \n",
    "init = start # Choose a mode here\n",
    "\n",
    "# Choose a discount factor for discounted reward computation\n",
    "discount = 0.3\n",
    "\n",
    "# Regularization parameter and function\n",
    "alpha = 0.00\n",
    "def regularization(alpha,length):\n",
    "    return alpha*length\n",
    "\n",
    "# Initialize Q-Learning Agent\n",
    "truncation = 1\n",
    "learning_rate = 1\n",
    "epsilon = 0.5\n",
    "\n",
    "# Epsilon decaying function\n",
    "def epsilon_function(epsilon):\n",
    "    # return epsilon\n",
    "    return max(epsilon - 1/training_steps, 0.05)\n",
    "\n",
    "q_agent = QLearningAgent(agents, truncation, discount, learning_rate, epsilon, epsilon_function)"
   ]
  },
  {
   "cell_type": "markdown",
   "id": "8535ec88",
   "metadata": {},
   "source": [
    "## Training the Q-Learning model"
   ]
  },
  {
   "cell_type": "markdown",
   "id": "5f46c44a",
   "metadata": {},
   "source": [
    "Execute the main code automatically by choosing one of the strategies defined above in the 'Define Strategies' section and letting the computer play by itself. This function outputs three graphs. \n",
    "- Graph 1: Total reward from time $t_0$ to time $t_{1000}$.\n",
    "- Graph 2: Length of the Queue from time $t_0$ to time $t_{1000}$.\n",
    "- Graph 3: Distribution of serviced Agents by type from $t_0$ to time $t_{1000}$.\n",
    "\n"
   ]
  },
  {
   "cell_type": "code",
   "execution_count": 8,
   "id": "e5c9ee49",
   "metadata": {
    "scrolled": true
   },
   "outputs": [
    {
     "name": "stdout",
     "output_type": "stream",
     "text": [
      "Expected service probability & time across agents: (0.5, 2.0)\n",
      "Expected reward + weighted penalty for each agent: {'Alex': 25.0, 'Ben': 0.0, 'Cameron': 9.0, 'Dennis': 8.0, 'Eric': 150.0, 'Fabien': 15.0}\n"
     ]
    },
    {
     "name": "stderr",
     "output_type": "stream",
     "text": [
      "Training Agent: 100%|███████████████████████████████████| 100000/100000 [55426.01it/s] [00:01<00:00]\n"
     ]
    },
    {
     "data": {
      "image/png": "[encoded data removed]",
      "text/plain": [
       "<Figure size 1500x500 with 3 Axes>"
      ]
     },
     "metadata": {},
     "output_type": "display_data"
    },
    {
     "name": "stdout",
     "output_type": "stream",
     "text": [
      "\n",
      "Total reward: 8324200.0\n",
      "Discounted reward: 23.40000002615478\n",
      "Average reward per step: 83.242\n",
      "Min & Max Queue Length: 0 & 3\n",
      "Mean Queue Length: 1.23498\n",
      "Normalized Distribution of Serviced Agents: {'Eric': 0.789, 'Ben': 0.211}\n",
      "Time spent busy: 1.0\n",
      "--------------------------------------------------------\n"
     ]
    }
   ],
   "source": [
    "simulation = QueueSimulation(\n",
    "    agents,\n",
    "    arrival_prob,\n",
    "    init,\n",
    "    alpha,\n",
    "    discount,\n",
    "    truncation\n",
    ")\n",
    "\n",
    "print(f\"Expected service probability & time across agents: {service()}\")\n",
    "print(f\"Expected reward + weighted penalty for each agent: {average()}\")\n",
    "simulation.train(steps=training_steps)\n",
    "simulation.get_results()"
   ]
  },
  {
   "cell_type": "code",
   "execution_count": 9,
   "id": "f5b4c128-86ac-4112-8087-2078c8befffa",
   "metadata": {
    "scrolled": true
   },
   "outputs": [
    {
     "data": {
      "text/plain": [
       "defaultdict(<function __main__.QLearningAgent.__init__.<locals>.<lambda>()>,\n",
       "            {(('Alex', 0),\n",
       "              ('Ben', 0),\n",
       "              ('Cameron', 0),\n",
       "              ('Dennis', 0),\n",
       "              ('Eric', 1),\n",
       "              ('Fabien', 0)): {'Alex': 0,\n",
       "              'Ben': 0,\n",
       "              'Cameron': 0,\n",
       "              'Dennis': 0,\n",
       "              'Eric': 65.93406593406476,\n",
       "              'Fabien': 0},\n",
       "             (('Alex', 0),\n",
       "              ('Ben', 1),\n",
       "              ('Cameron', 0),\n",
       "              ('Dennis', 0),\n",
       "              ('Eric', 0),\n",
       "              ('Fabien', 0)): {'Alex': 0,\n",
       "              'Ben': 65.93406593406593,\n",
       "              'Cameron': 0,\n",
       "              'Dennis': 0,\n",
       "              'Eric': 0,\n",
       "              'Fabien': 0},\n",
       "             (('Alex', 0),\n",
       "              ('Ben', 1),\n",
       "              ('Cameron', 0),\n",
       "              ('Dennis', 0),\n",
       "              ('Eric', 1),\n",
       "              ('Fabien', 0)): {'Alex': 0,\n",
       "              'Ben': 1.8281762724797808,\n",
       "              'Cameron': 0,\n",
       "              'Dennis': 0,\n",
       "              'Eric': 219.78021978021977,\n",
       "              'Fabien': 0}})"
      ]
     },
     "execution_count": 9,
     "metadata": {},
     "output_type": "execute_result"
    }
   ],
   "source": [
    "q_agent.q_table"
   ]
  },
  {
   "cell_type": "markdown",
   "id": "4590adc9-b467-4abf-b1c6-2da553cf01fc",
   "metadata": {},
   "source": [
    "## Testing the Agent"
   ]
  },
  {
   "cell_type": "markdown",
   "id": "3a8351d9-439a-4283-8e43-bdaeb4d11158",
   "metadata": {},
   "source": [
    "### Defining the test variables"
   ]
  },
  {
   "cell_type": "code",
   "execution_count": 10,
   "id": "d11130d4-3087-45ef-b286-d922ec62bc74",
   "metadata": {},
   "outputs": [],
   "source": [
    "testing_steps = 1000\n",
    "test_queue = create([(\"Eric\",5), (\"Ben\",5)], shuffle=True)"
   ]
  },
  {
   "cell_type": "markdown",
   "id": "cb5eeb18-be77-4c5f-8ebb-dcb247f952d9",
   "metadata": {},
   "source": [
    "### Displaying actions"
   ]
  },
  {
   "cell_type": "code",
   "execution_count": 11,
   "id": "dfbb46d4-083b-49ca-a8a5-622e7270b66b",
   "metadata": {},
   "outputs": [
    {
     "name": "stderr",
     "output_type": "stream",
     "text": [
      "Testing Agent: 100%|███████████████████████████████████████| 1000/1000 [00:00<00:00, 1206299.68it/s]"
     ]
    },
    {
     "name": "stdout",
     "output_type": "stream",
     "text": [
      "Exploitation - Action: Eric \n",
      "Exploitation - Action: Eric \n",
      "Exploitation - Action: Eric \n",
      "Exploitation - Action: Eric \n",
      "Exploitation - Action: Eric \n",
      "Exploitation - Action: Ben \n",
      "Exploitation - Action: Ben \n",
      "Exploitation - Action: Ben \n",
      "Exploitation - Action: Ben \n",
      "Exploitation - Action: Ben \n",
      "Exploitation - Action: Ben \n",
      "Exploitation - Action: Ben \n",
      "Exploitation - Action: Ben \n",
      "Exploitation - Action: Ben \n",
      "Exploitation - Action: Ben \n",
      "Exploitation - Action: Ben \n",
      "Exploitation - Action: Ben \n"
     ]
    },
    {
     "name": "stderr",
     "output_type": "stream",
     "text": [
      "\n"
     ]
    },
    {
     "data": {
      "image/png": "[encoded data removed]",
      "text/plain": [
       "<Figure size 1500x500 with 3 Axes>"
      ]
     },
     "metadata": {},
     "output_type": "display_data"
    },
    {
     "name": "stdout",
     "output_type": "stream",
     "text": [
      "\n",
      "Total reward: 1200.0\n",
      "Discounted reward: 0.0\n",
      "Average reward per step: 1.2\n",
      "Min & Max Queue Length: 0 & 10\n",
      "Mean Queue Length: 0.074\n",
      "Normalized Distribution of Serviced Agents: {'Eric': 0.545, 'Ben': 0.455}\n",
      "Time spent busy: 0.022\n",
      "--------------------------------------------------------\n"
     ]
    }
   ],
   "source": [
    "simulation.test(test_queue=test_queue, test_arrival_prob=0, verbose=True)"
   ]
  },
  {
   "cell_type": "markdown",
   "id": "b9afe3e4",
   "metadata": {},
   "source": [
    "# Comments"
   ]
  },
  {
   "cell_type": "markdown",
   "id": "a9bca257-8d34-4608-9df0-cfebd7d7eaf5",
   "metadata": {},
   "source": [
    "- We have a problem since the Agent performs quite poorly on states he hasn't explored. Should we force the agent to go $x$ number of times over each state in the training and then using this information for testing in order to make sure it performs equally well on each state ? "
   ]
  },
  {
   "cell_type": "markdown",
   "id": "1cda7616",
   "metadata": {},
   "source": [
    "In case something needs to be changed, please feel free to write something in the cell below and email me about it. "
   ]
  }
 ],
 "metadata": {
  "kernelspec": {
   "display_name": "Python 3 (ipykernel)",
   "language": "python",
   "name": "python3"
  },
  "language_info": {
   "codemirror_mode": {
    "name": "ipython",
    "version": 3
   },
   "file_extension": ".py",
   "mimetype": "text/x-python",
   "name": "python",
   "nbconvert_exporter": "python",
   "pygments_lexer": "ipython3",
   "version": "3.12.4"
  }
 },
 "nbformat": 4,
 "nbformat_minor": 5
}
